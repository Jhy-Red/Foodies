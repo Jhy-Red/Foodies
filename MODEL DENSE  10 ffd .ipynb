{
 "cells": [
  {
   "cell_type": "markdown",
   "metadata": {},
   "source": [
    "# Liste des modules"
   ]
  },
  {
   "cell_type": "code",
   "execution_count": 1,
   "metadata": {},
   "outputs": [
    {
     "output_type": "stream",
     "name": "stdout",
     "text": [
      "Found 4835 images belonging to 10 classes.\nFound 1620 images belonging to 10 classes.\n"
     ]
    }
   ],
   "source": [
    "import tensorflow.keras\n",
    "from tensorflow.keras.preprocessing.image import ImageDataGenerator\n",
    "from tensorflow.keras.models import Sequential\n",
    "from tensorflow.keras.layers import Dense, Dropout, Activation, Flatten\n",
    "from tensorflow.keras.layers import Conv2D, MaxPooling2D\n",
    "\n",
    "path=\"/media/jhy/46AE-6494/DB/img/food/fruits_base_light/\"\n",
    "train_data_dir = path +'/Train'\n",
    "test_data_dir = path + 'Test'\n",
    "\n",
    "size = (100,100)\n",
    "\n",
    "# Let's use some data augmentaiton \n",
    "train_datagen = ImageDataGenerator(\n",
    "      rescale=1./255,\n",
    "      rotation_range=1,\n",
    "      width_shift_range=0.25,\n",
    "      height_shift_range=0.25,\n",
    "      horizontal_flip=True,\n",
    "      vertical_flip = True,\n",
    "      fill_mode='nearest')\n",
    " \n",
    "test_datagen = ImageDataGenerator(rescale=1./255)\n",
    " \n",
    "Train = train_datagen.flow_from_directory(\n",
    "        train_data_dir,\n",
    "        target_size=size,\n",
    "        batch_size =20,\n",
    "        color_mode = \"rgb\",\n",
    "        class_mode='categorical',\n",
    "        shuffle=True)\n",
    " \n",
    "Test = test_datagen.flow_from_directory(\n",
    "        test_data_dir,\n",
    "        target_size=size,\n",
    "        batch_size=20,\n",
    "        color_mode = \"rgb\",\n",
    "        class_mode='categorical',\n",
    "        shuffle=False)\n",
    "\n",
    "#if rgb  = 3\n",
    "layer = 3\n",
    "shape = size + (layer,)"
   ]
  },
  {
   "cell_type": "code",
   "execution_count": 2,
   "metadata": {},
   "outputs": [
    {
     "output_type": "stream",
     "name": "stdout",
     "text": [
      "{'Apple': 0, 'Avocado': 1, 'Banana': 2, 'Kiwi': 3, 'Nut Pecan': 4, 'Orange': 5, 'Passion Fruit': 6, 'Pear': 7, 'Pineapple': 8, 'Watermelon': 9}\n"
     ]
    }
   ],
   "source": [
    " label_map = (Train.class_indices)\n",
    " print(label_map)\n",
    " num_classes = len(label_map)"
   ]
  },
  {
   "cell_type": "code",
   "execution_count": 3,
   "metadata": {},
   "outputs": [],
   "source": [
    "\n",
    "\n",
    "model = Sequential([\n",
    "      Conv2D(num_classes * 1, kernel_size=(5,5), activation='relu', input_shape=shape)\n",
    "    , MaxPooling2D()\n",
    "    , Conv2D(num_classes * 2, kernel_size=(5,5), activation='relu')\n",
    "    , MaxPooling2D()\n",
    "    , Dropout(0.20)\n",
    "    , Conv2D(num_classes * 3, kernel_size=(5,5), activation='relu')\n",
    "    , MaxPooling2D()\n",
    "    , Dropout(0.30)\n",
    "    , Flatten()\n",
    "    , Dense(num_classes , activation = \"softmax\")\n",
    "    ])"
   ]
  },
  {
   "cell_type": "code",
   "execution_count": 4,
   "metadata": {},
   "outputs": [],
   "source": [
    "from tensorflow.keras.optimizers import RMSprop\n",
    "from tensorflow.keras.callbacks import ModelCheckpoint, EarlyStopping, ReduceLROnPlateau\n",
    "\n",
    "                     \n",
    "checkpoint = ModelCheckpoint(path+\"/fruits_fresh_cnn_1.h5\",\n",
    "                             monitor=\"val_loss\",\n",
    "                             mode=\"min\",\n",
    "                             save_best_only = True,\n",
    "                             verbose=1)\n",
    "\n",
    "earlystop = EarlyStopping(monitor = 'val_loss', \n",
    "                          min_delta = 0, \n",
    "                          patience = 3,\n",
    "                          verbose = 1,\n",
    "                          restore_best_weights = True)\n",
    "\n",
    "reduce_lr = ReduceLROnPlateau(monitor = 'val_loss',\n",
    "                              factor = 0.2,\n",
    "                              patience = 3,\n",
    "                              verbose = 1,\n",
    "                              min_delta = 0.0001)\n",
    "\n",
    "# we put our call backs into a callback list\n",
    "callbacks = [earlystop, checkpoint, reduce_lr]\n",
    "\n",
    "# We use a very small learning rate \n",
    "model.compile(loss = 'categorical_crossentropy',\n",
    "              optimizer = 'adam',\n",
    "              metrics = ['accuracy'])\n",
    "\n"
   ]
  },
  {
   "cell_type": "code",
   "execution_count": 5,
   "metadata": {},
   "outputs": [
    {
     "output_type": "stream",
     "name": "stdout",
     "text": [
      "Model: \"sequential\"\n_________________________________________________________________\nLayer (type)                 Output Shape              Param #   \n=================================================================\nconv2d (Conv2D)              (None, 96, 96, 10)        760       \n_________________________________________________________________\nmax_pooling2d (MaxPooling2D) (None, 48, 48, 10)        0         \n_________________________________________________________________\nconv2d_1 (Conv2D)            (None, 44, 44, 20)        5020      \n_________________________________________________________________\nmax_pooling2d_1 (MaxPooling2 (None, 22, 22, 20)        0         \n_________________________________________________________________\ndropout (Dropout)            (None, 22, 22, 20)        0         \n_________________________________________________________________\nconv2d_2 (Conv2D)            (None, 18, 18, 30)        15030     \n_________________________________________________________________\nmax_pooling2d_2 (MaxPooling2 (None, 9, 9, 30)          0         \n_________________________________________________________________\ndropout_1 (Dropout)          (None, 9, 9, 30)          0         \n_________________________________________________________________\nflatten (Flatten)            (None, 2430)              0         \n_________________________________________________________________\ndense (Dense)                (None, 10)                24310     \n=================================================================\nTotal params: 45,120\nTrainable params: 45,120\nNon-trainable params: 0\n_________________________________________________________________\n"
     ]
    }
   ],
   "source": [
    "model.summary()"
   ]
  },
  {
   "cell_type": "code",
   "execution_count": 32,
   "metadata": {},
   "outputs": [
    {
     "output_type": "stream",
     "name": "stdout",
     "text": [
      "Epoch 1/5\n",
      "242/242 [==============================] - 24s 97ms/step - loss: 0.0936 - accuracy: 0.9671 - val_loss: 0.0219 - val_accuracy: 0.9877\n",
      "\n",
      "Epoch 00001: val_loss improved from 0.02522 to 0.02189, saving model to /media/jhy/46AE-6494/DB/img/food/fruits_base_light/fruits_fresh_cnn_1.h5\n",
      "Epoch 2/5\n",
      "242/242 [==============================] - 23s 95ms/step - loss: 0.0381 - accuracy: 0.9861 - val_loss: 0.0032 - val_accuracy: 1.0000\n",
      "\n",
      "Epoch 00002: val_loss improved from 0.02189 to 0.00325, saving model to /media/jhy/46AE-6494/DB/img/food/fruits_base_light/fruits_fresh_cnn_1.h5\n",
      "Epoch 3/5\n",
      "242/242 [==============================] - 23s 97ms/step - loss: 0.0320 - accuracy: 0.9907 - val_loss: 0.0400 - val_accuracy: 0.9840\n",
      "\n",
      "Epoch 00003: val_loss did not improve from 0.00325\n",
      "Epoch 4/5\n",
      "242/242 [==============================] - 24s 98ms/step - loss: 0.0391 - accuracy: 0.9878 - val_loss: 0.0063 - val_accuracy: 0.9969\n",
      "\n",
      "Epoch 00004: val_loss did not improve from 0.00325\n",
      "Epoch 5/5\n",
      "242/242 [==============================] - 24s 97ms/step - loss: 0.0427 - accuracy: 0.9866 - val_loss: 0.0100 - val_accuracy: 0.9957\n",
      "Restoring model weights from the end of the best epoch.\n",
      "\n",
      "Epoch 00005: val_loss did not improve from 0.00325\n",
      "\n",
      "Epoch 00005: ReduceLROnPlateau reducing learning rate to 0.00020000000949949026.\n",
      "Epoch 00005: early stopping\n"
     ]
    }
   ],
   "source": [
    "history = model.fit(\n",
    "    Train,\n",
    "    epochs = 5,\n",
    "    callbacks = callbacks,\n",
    "    validation_data = Test,\n",
    "    )"
   ]
  },
  {
   "cell_type": "code",
   "execution_count": 33,
   "metadata": {
    "tags": []
   },
   "outputs": [
    {
     "output_type": "stream",
     "name": "stdout",
     "text": [
      "Classification Report\n               precision    recall  f1-score   support\n\n        Apple       1.00      1.00      1.00       164\n      Avocado       1.00      1.00      1.00       143\n       Banana       1.00      1.00      1.00       166\n         Kiwi       1.00      1.00      1.00       156\n    Nut Pecan       1.00      1.00      1.00       178\n       Orange       1.00      1.00      1.00       160\nPassion Fruit       1.00      1.00      1.00       166\n         Pear       1.00      1.00      1.00       164\n    Pineapple       1.00      1.00      1.00       166\n   Watermelon       1.00      1.00      1.00       157\n\n     accuracy                           1.00      1620\n    macro avg       1.00      1.00      1.00      1620\n weighted avg       1.00      1.00      1.00      1620\n\n"
     ]
    }
   ],
   "source": [
    "from sklearn.metrics import classification_report\n",
    "import numpy as np\n",
    "\n",
    "#Confution Matrix and Classification Report\n",
    "Y_pred = model.predict(Test)\n",
    "y_pred = np.argmax(Y_pred, axis=1)\n",
    "print('Classification Report')\n",
    "target_names = list(Test.class_indices.keys())\n",
    "print(classification_report(Test.classes, y_pred, target_names=target_names))"
   ]
  },
  {
   "cell_type": "markdown",
   "metadata": {},
   "source": [
    "## TEST"
   ]
  },
  {
   "cell_type": "code",
   "execution_count": 56,
   "metadata": {},
   "outputs": [],
   "source": [
    "def prediction (img_path,size = size):\n",
    "    from tensorflow.keras.preprocessing import image\n",
    "    import numpy as np\n",
    "    \n",
    "    img = image.load_img(img_path, target_size=size, color_mode = \"rgb\")\n",
    "    x = image.img_to_array(img)\n",
    "    x = np.expand_dims(x, axis=0)\n",
    "    \n",
    "    result = model.predict(x)\n",
    "    y_classes = result.argmax(axis=-1)\n",
    "\n",
    "    #return y_classes\n",
    "\n",
    "    for keys, values in label_map.items():  # for name, age in dictionary.iteritems():  (for Python 2.x)\n",
    "        if values == y_classes:\n",
    "            return(keys)"
   ]
  },
  {
   "cell_type": "code",
   "execution_count": 57,
   "metadata": {},
   "outputs": [],
   "source": [
    "from IPython.display import Image"
   ]
  },
  {
   "cell_type": "code",
   "execution_count": 58,
   "metadata": {},
   "outputs": [
    {
     "output_type": "execute_result",
     "data": {
      "image/jpeg": "[encoded data removed]",
      "text/plain": [
       "<IPython.core.display.Image object>"
      ]
     },
     "metadata": {},
     "execution_count": 58
    }
   ],
   "source": [
    "img_path=\"/media/jhy/46AE-6494/DB/img/food/Validation foodies/Pomme.jpeg\"\n",
    "Image(filename=img_path)\n"
   ]
  },
  {
   "cell_type": "code",
   "execution_count": 59,
   "metadata": {},
   "outputs": [
    {
     "output_type": "execute_result",
     "data": {
      "text/plain": [
       "'Apple'"
      ]
     },
     "metadata": {},
     "execution_count": 59
    }
   ],
   "source": [
    "prediction(img_path)"
   ]
  },
  {
   "cell_type": "code",
   "execution_count": 60,
   "metadata": {},
   "outputs": [
    {
     "output_type": "execute_result",
     "data": {
      "image/jpeg": "[encoded data removed]",
      "text/plain": [
       "<IPython.core.display.Image object>"
      ]
     },
     "metadata": {},
     "execution_count": 60
    }
   ],
   "source": [
    "img_path=\"/media/jhy/46AE-6494/DB/img/food/Validation foodies/Banane.jpeg\"\n",
    "Image(filename=img_path)"
   ]
  },
  {
   "cell_type": "code",
   "execution_count": 62,
   "metadata": {},
   "outputs": [
    {
     "output_type": "execute_result",
     "data": {
      "text/plain": [
       "'Banana'"
      ]
     },
     "metadata": {},
     "execution_count": 62
    }
   ],
   "source": [
    "prediction(img_path)"
   ]
  },
  {
   "cell_type": "code",
   "execution_count": 63,
   "metadata": {},
   "outputs": [
    {
     "output_type": "execute_result",
     "data": {
      "image/jpeg": "[encoded data removed]",
      "text/plain": [
       "<IPython.core.display.Image object>"
      ]
     },
     "metadata": {},
     "execution_count": 63
    }
   ],
   "source": [
    "img_path=\"/media/jhy/46AE-6494/DB/img/food/Validation foodies/Orange.jpeg\"\n",
    "Image(filename=img_path)"
   ]
  },
  {
   "cell_type": "code",
   "execution_count": 64,
   "metadata": {},
   "outputs": [
    {
     "output_type": "execute_result",
     "data": {
      "text/plain": [
       "'Orange'"
      ]
     },
     "metadata": {},
     "execution_count": 64
    }
   ],
   "source": [
    "prediction(img_path)"
   ]
  },
  {
   "cell_type": "code",
   "execution_count": 79,
   "metadata": {},
   "outputs": [
    {
     "output_type": "execute_result",
     "data": {
      "image/jpeg": "[encoded data removed]",
      "text/plain": [
       "<IPython.core.display.Image object>"
      ]
     },
     "metadata": {},
     "execution_count": 79
    }
   ],
   "source": [
    "img_path=\"/media/jhy/46AE-6494/DB/img/food/Validation foodies/Pasteque.jpeg\"\n",
    "Image(filename=img_path)"
   ]
  },
  {
   "cell_type": "code",
   "execution_count": 80,
   "metadata": {},
   "outputs": [
    {
     "output_type": "execute_result",
     "data": {
      "text/plain": [
       "'Watermelon'"
      ]
     },
     "metadata": {},
     "execution_count": 80
    }
   ],
   "source": [
    "prediction(img_path)"
   ]
  },
  {
   "cell_type": "code",
   "execution_count": 94,
   "metadata": {},
   "outputs": [
    {
     "output_type": "execute_result",
     "data": {
      "image/jpeg": "[encoded data removed]",
      "text/plain": [
       "<IPython.core.display.Image object>"
      ]
     },
     "metadata": {},
     "execution_count": 94
    }
   ],
   "source": [
    "img_path=\"/media/jhy/46AE-6494/DB/img/food/Validation foodies/Poire.jpeg\"\n",
    "Image(filename=img_path)"
   ]
  },
  {
   "cell_type": "code",
   "execution_count": 95,
   "metadata": {},
   "outputs": [
    {
     "output_type": "execute_result",
     "data": {
      "text/plain": [
       "'Pear'"
      ]
     },
     "metadata": {},
     "execution_count": 95
    }
   ],
   "source": [
    "prediction(img_path)"
   ]
  },
  {
   "cell_type": "code",
   "execution_count": 96,
   "metadata": {},
   "outputs": [
    {
     "output_type": "stream",
     "name": "stdout",
     "text": [
      "INFO:tensorflow:Assets written to: models/modele-prototype-10/assets\n",
      "INFO:tensorflow:Assets written to: models/modele-prototype-10/assets\n"
     ]
    }
   ],
   "source": [
    "model.save('models/modele-prototype-10')"
   ]
  },
  {
   "cell_type": "code",
   "execution_count": 97,
   "metadata": {},
   "outputs": [],
   "source": [
    "import pickle \n",
    "\n",
    "a_file = open(\"models/modele-prototype-10.pkl\", \"wb\")\n",
    "\n",
    "pickle.dump(label_map, a_file)\n",
    "\n",
    "a_file.close()"
   ]
  },
  {
   "cell_type": "code",
   "execution_count": null,
   "metadata": {},
   "outputs": [],
   "source": []
  }
 ],
 "metadata": {
  "kernelspec": {
   "display_name": "Python 3",
   "language": "python",
   "name": "python3"
  },
  "language_info": {
   "codemirror_mode": {
    "name": "ipython",
    "version": 3
   },
   "file_extension": ".py",
   "mimetype": "text/x-python",
   "name": "python",
   "nbconvert_exporter": "python",
   "pygments_lexer": "ipython3",
   "version": "3.8.5"
  }
 },
 "nbformat": 4,
 "nbformat_minor": 4
}